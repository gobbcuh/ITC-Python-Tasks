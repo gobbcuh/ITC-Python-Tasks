{
  "nbformat": 4,
  "nbformat_minor": 0,
  "metadata": {
    "colab": {
      "provenance": [],
      "authorship_tag": "ABX9TyNxFD0JYCGb0j8guuZqVM4I",
      "include_colab_link": true
    },
    "kernelspec": {
      "name": "python3",
      "display_name": "Python 3"
    },
    "language_info": {
      "name": "python"
    }
  },
  "cells": [
    {
      "cell_type": "markdown",
      "metadata": {
        "id": "view-in-github",
        "colab_type": "text"
      },
      "source": [
        "<a href=\"https://colab.research.google.com/github/gobbcuh/ITC-Python-Tasks/blob/main/ITC_to_dos.ipynb\" target=\"_parent\"><img src=\"https://colab.research.google.com/assets/colab-badge.svg\" alt=\"Open In Colab\"/></a>"
      ]
    },
    {
      "cell_type": "code",
      "execution_count": 2,
      "metadata": {
        "colab": {
          "base_uri": "https://localhost:8080/"
        },
        "id": "4G3lsHmEhcH1",
        "outputId": "cd5353a8-895f-42b5-d8c0-3c6df3f313d2"
      },
      "outputs": [
        {
          "output_type": "stream",
          "name": "stdout",
          "text": [
            "---------- TO-DO LIST MANAGER ---------\n",
            "Choose:\n",
            "1. Add a task\n",
            "2. Remove a task\n",
            "3. See your tasks\n",
            "4. Quit\n",
            "Enter your choice: 1\n",
            "Enter a task: Study how to use Colab\n",
            "['Study how to use Colab']\n"
          ]
        }
      ],
      "source": [
        "print(\"---------- SIMPLE TO-DO LIST MANAGER ---------\")\n",
        "\n",
        "print(\"Choose:\\n1. Add a task\\n2. Remove a task\\n3. See your tasks\\n4. Quit\")\n",
        "choice = int(input(\"Enter your choice: \"))\n",
        "\n",
        "task = []\n",
        "if choice == 1:\n",
        "    task.append(input(\"Enter a task: \"))\n",
        "    print(task)\n",
        "elif choice == 2:\n",
        "    task.remove(input(\"Enter a task: \"))\n",
        "    print(task)\n",
        "elif choice == 3:\n",
        "    print(task)\n",
        "elif choice == 4:\n",
        "    print(\"Quit\")\n",
        "else:\n",
        "    print(\"Invalid choice\")"
      ]
    }
  ]
}