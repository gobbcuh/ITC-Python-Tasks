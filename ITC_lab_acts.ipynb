{
  "cells": [
    {
      "cell_type": "markdown",
      "metadata": {
        "id": "view-in-github",
        "colab_type": "text"
      },
      "source": [
        "<a href=\"https://colab.research.google.com/github/gobbcuh/ITC-Python-Tasks/blob/main/ITC_lab_acts.ipynb\" target=\"_parent\"><img src=\"https://colab.research.google.com/assets/colab-badge.svg\" alt=\"Open In Colab\"/></a>"
      ]
    },
    {
      "cell_type": "code",
      "execution_count": 1,
      "metadata": {
        "collapsed": true,
        "id": "TgFLTY4K2qsf",
        "colab": {
          "base_uri": "https://localhost:8080/"
        },
        "outputId": "b32d106e-99e1-40bb-90be-37e5bce63a8f"
      },
      "outputs": [
        {
          "output_type": "stream",
          "name": "stdout",
          "text": [
            "---------- DELIZIOSO CALCULATOR ----------\n",
            "\n",
            "Enter first number: 88\n",
            "Enter second number: 20\n",
            "\n",
            "Choose an operator of your choice:\n",
            "1. Addition\n",
            "2. Subtraction\n",
            "3. Multiplication\n",
            "4. Division\n",
            "Enter operator: 3\n",
            "88.0 x 20.0 = 1760.0\n"
          ]
        }
      ],
      "source": [
        "print(\"---------- DELIZIOSO CALCULATOR ----------\\n\")\n",
        "\n",
        "num1 = float(input(\"Enter first number: \"))\n",
        "num2 = float(input(\"Enter second number: \"))\n",
        "\n",
        "print(\"\\nChoose an operator of your choice:\\n1. Addition\\n2. Subtraction\\n3. Multiplication\\n4. Division\")\n",
        "operator = input(\"Enter operator: \")\n",
        "\n",
        "if operator == \"1\":\n",
        "    print((num1), \"+\", (num2), \"=\", num1 + num2)\n",
        "elif operator == \"2\":\n",
        "    print((num1), \"-\", (num2), \"=\", num1 - num2)\n",
        "elif operator == \"3\":\n",
        "    print((num1), \"x\", (num2), \"=\", num1 * num2)\n",
        "elif operator == \"4\":\n",
        "    print((num1), \"÷\", (num2), \"=\", num1 / num2)\n",
        "else:\n",
        "    print(\"Invalid. Please enter a valid operator.\")"
      ]
    },
    {
      "cell_type": "code",
      "execution_count": 2,
      "metadata": {
        "colab": {
          "base_uri": "https://localhost:8080/"
        },
        "collapsed": true,
        "id": "1Krlx_zE7gJ7",
        "outputId": "91710ac2-ee76-40ac-8e6c-e901aed1d3a0"
      },
      "outputs": [
        {
          "name": "stdout",
          "output_type": "stream",
          "text": [
            "---------- STUDENT INFORMATION SYSTEM ----------\n",
            "\n",
            "Choose below:\n",
            "1. Access Student Information\n",
            "2. Add Student Information\n",
            "3. Remove Student Information\n",
            "4. Quit\n",
            "Enter choice: 1\n",
            "{'Name': 'Jasmin Lorino', 'ID': '2024-1002436'}\n",
            "\n",
            "Choose below:\n",
            "1. Access Student Information\n",
            "2. Add Student Information\n",
            "3. Remove Student Information\n",
            "4. Quit\n",
            "Enter choice: 2\n",
            "Enter name: Trishia Maralit\n",
            "Enter ID: 2024-1002437\n",
            "Added: Trishia Maralit, 2024-1002437\n",
            "\n",
            "Choose below:\n",
            "1. Access Student Information\n",
            "2. Add Student Information\n",
            "3. Remove Student Information\n",
            "4. Quit\n",
            "Enter choice: 1\n",
            "{'Name': 'Jasmin Lorino', 'ID': '2024-1002436', 'Trishia Maralit': '2024-1002437'}\n",
            "\n",
            "Choose below:\n",
            "1. Access Student Information\n",
            "2. Add Student Information\n",
            "3. Remove Student Information\n",
            "4. Quit\n",
            "Enter choice: 4\n"
          ]
        }
      ],
      "source": [
        "print(\"---------- STUDENT INFORMATION SYSTEM ----------\")\n",
        "\n",
        "students = {\"Name\": \"Jasmin Lorino\", \"ID\": \"2024-1002436\"}\n",
        "\n",
        "while True:\n",
        "    print(\"\\nChoose below:\\n1. Access Student Information\\n2. Add Student Information\\n3. Remove Student Information\\n4. Quit\")\n",
        "    choice = int(input(\"Enter choice: \"))\n",
        "\n",
        "    if choice == 1:\n",
        "        print(students)\n",
        "\n",
        "    elif choice == 2:\n",
        "        name = input(\"Enter name: \")\n",
        "        ID = input(\"Enter ID: \")\n",
        "        students[name] = ID\n",
        "        print(f\"Added: {name}, {ID}\")\n",
        "\n",
        "    elif choice == 3:\n",
        "        try:\n",
        "            name = input(\"Enter name to remove: \")\n",
        "            del students[name]\n",
        "            print(f\"Removed: {name}\")\n",
        "        except KeyError:\n",
        "            print(f\"Student '{name}' not found.\")\n",
        "\n",
        "    elif choice == 4:\n",
        "        break\n",
        "\n",
        "    else:\n",
        "        print(\"Invalid. Please enter a valid choice.\")"
      ]
    },
    {
      "cell_type": "code",
      "execution_count": null,
      "metadata": {
        "colab": {
          "base_uri": "https://localhost:8080/"
        },
        "id": "8BzQWJ7N_V6T",
        "outputId": "a831aaba-d7da-443e-bc85-6be8169b6e8e"
      },
      "outputs": [
        {
          "name": "stdout",
          "output_type": "stream",
          "text": [
            "---------- GRADING SYSTEM ----------\n",
            "\n",
            "Enter your grade: 90\n",
            "Your grade is A\n"
          ]
        }
      ],
      "source": [
        "print(\"---------- GRADING SYSTEM ----------\\n\")\n",
        "\n",
        "grade = float(input(\"Enter your grade: \"))\n",
        "\n",
        "if grade < 0 or grade > 100:\n",
        "    print(\"Invalid. Please enter a valid grade.\")\n",
        "elif grade >= 90:\n",
        "    print(\"Your grade is A\")\n",
        "elif grade >= 80:\n",
        "    print(\"Your grade is B\")\n",
        "elif grade >= 70:\n",
        "    print(\"Your grade is C\")\n",
        "elif grade >= 60:\n",
        "    print(\"Your grade is D\")\n",
        "else:\n",
        "    print(\"Your grade is F\")"
      ]
    }
  ],
  "metadata": {
    "colab": {
      "provenance": [],
      "authorship_tag": "ABX9TyPDbiPNbmW5BdjT42pK7dni",
      "include_colab_link": true
    },
    "kernelspec": {
      "display_name": "Python 3",
      "name": "python3"
    },
    "language_info": {
      "name": "python"
    }
  },
  "nbformat": 4,
  "nbformat_minor": 0
}